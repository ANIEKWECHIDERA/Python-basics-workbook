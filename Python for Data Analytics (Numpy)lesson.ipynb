{
 "cells": [
  {
   "cell_type": "markdown",
   "metadata": {},
   "source": [
    "# NumPy"
   ]
  },
  {
   "cell_type": "code",
   "execution_count": null,
   "metadata": {},
   "outputs": [],
   "source": [
    "#NumPY is a numeric computing library for processing numbers.\n",
    "#it literally means Numerical python.\n",
    "#it is used for speeding up calculations especially for large amounts of data.\n",
    "#it is not used much, or most of the time, but other tools like pandas & matplotlib rely on it for numerical processing.\n",
    "\n",
    "#it ia faster than using native python calculation\n",
    "#it is more memory efficient\n",
    "#it integrates well with other libraries\n"
   ]
  },
  {
   "cell_type": "markdown",
   "metadata": {},
   "source": [
    "Introduction to NumPy\n",
    "1. What is NumPy?\\\n",
    "NumPy is a powerful Python library used for numerical computing. It stands for Numerical Python. NumPy provides support for large, multi-dimensional arrays and matrices, along with a collection of mathematical functions to operate on these arrays efficiently. It is widely used in fields such as scientific computing, engineering, data analysis, and machine learning.\n",
    "\n",
    "2. Why use NumPy?\\\n",
    "NumPy offers several advantages over traditional Python lists for numerical computations:\n",
    "\n",
    "Efficiency: NumPy arrays are stored in contiguous memory, allowing for fast operations.\\\n",
    "Broadcasting: NumPy enables operations on arrays of different shapes, making code concise and efficient.\\\n",
    "Vectorized operations: NumPy functions and operations are optimized to work with arrays, eliminating the need for explicit looping.\\\n",
    "Integration: NumPy seamlessly integrates with other Python libraries such as SciPy (for scientific computing) and Matplotlib (for plotting)."
   ]
  },
  {
   "cell_type": "code",
   "execution_count": null,
   "metadata": {},
   "outputs": [],
   "source": []
  },
  {
   "cell_type": "code",
   "execution_count": null,
   "metadata": {},
   "outputs": [],
   "source": [
    "#pip install numpy"
   ]
  },
  {
   "cell_type": "code",
   "execution_count": null,
   "metadata": {},
   "outputs": [],
   "source": [
    "#importing NumPy\n",
    "import numpy as np\n",
    "import pandas as pd\n",
    "from IPython.display import Image\n"
   ]
  },
  {
   "cell_type": "code",
   "execution_count": null,
   "metadata": {},
   "outputs": [],
   "source": [
    "# We want to calculate the yield of yam produced in specific regions using climate data\n",
    "\n",
    "# yam_prod = w1 * temperature + w2 * rainfall + w3 * Humidity"
   ]
  },
  {
   "cell_type": "code",
   "execution_count": null,
   "metadata": {},
   "outputs": [],
   "source": [
    "climate_df = pd.DataFrame({\n",
    "    'Region': ['Anambra', 'Sokoto', 'Abuja', 'Abia', \"Rivers state\"],\n",
    "    'Temp. (f)': [73, 91, 87, 102, 69],\n",
    "    'Rainfall (mm)': [67, 88, 134, 43, 96],\n",
    "    'Humidity (%)':  [43, 64, 58, 37, 70]\n",
    "})"
   ]
  },
  {
   "cell_type": "code",
   "execution_count": null,
   "metadata": {},
   "outputs": [],
   "source": [
    "climate_df"
   ]
  },
  {
   "cell_type": "code",
   "execution_count": null,
   "metadata": {},
   "outputs": [],
   "source": [
    "climate_df.set_index('Region', inplace = True)"
   ]
  },
  {
   "cell_type": "code",
   "execution_count": null,
   "metadata": {},
   "outputs": [],
   "source": [
    "w1 = 0.3\n",
    "w2 = 0.2\n",
    "w3 = 0.5"
   ]
  },
  {
   "cell_type": "code",
   "execution_count": null,
   "metadata": {},
   "outputs": [],
   "source": [
    "climate_df.loc['Sokoto']"
   ]
  },
  {
   "cell_type": "code",
   "execution_count": null,
   "metadata": {},
   "outputs": [],
   "source": [
    "Sokoto = np.array(climate_df.loc['Sokoto'])\n",
    "Sokoto"
   ]
  },
  {
   "cell_type": "code",
   "execution_count": null,
   "metadata": {},
   "outputs": [],
   "source": [
    "weights = np.array([w1, w2, w3])\n",
    "weights"
   ]
  },
  {
   "cell_type": "code",
   "execution_count": null,
   "metadata": {},
   "outputs": [],
   "source": [
    "Sokoto * weights"
   ]
  },
  {
   "cell_type": "code",
   "execution_count": null,
   "metadata": {},
   "outputs": [],
   "source": [
    "(Sokoto * weights).sum()"
   ]
  },
  {
   "cell_type": "code",
   "execution_count": null,
   "metadata": {},
   "outputs": [],
   "source": [
    "# This won't work because it is not a Numpy array\n",
    "list_1 = [91, 88, 64]\n",
    "list_2 = [0.3, 0.2, 0.5]\n",
    "\n",
    "#(list_1 * list_2).sum()"
   ]
  },
  {
   "cell_type": "markdown",
   "metadata": {},
   "source": [
    "# NumPy Arrarys\n",
    "\n",
    "NumPy arrays are data structures that can hold a collection of data values. These values can be numbers (integers, floats), or even more complex data types like strings. \n",
    "\n",
    "Unlike Python lists, which are one-dimensional, NumPy arrays can have multiple dimensions. This means they can represent data in a table (2D), a cube (3D), or even higher-dimensional structures."
   ]
  },
  {
   "cell_type": "markdown",
   "metadata": {},
   "source": [
    "# Benefits of Using NumPY Arrays\n",
    "\n",
    "It is faster in calculating numbers and running arithemetical operations\n",
    "\n",
    "NumPy arrays are designed for efficient storage and manipulation of large datasets. They are implemented in a way that allows for fast mathematical operations and optimized memory usage.\n",
    "\n",
    "One of the most powerful features of NumPy arrays is their ability to perform vectorized operations. This means you can apply mathematical operations to entire arrays at once, without the need for explicit looping over elements"
   ]
  },
  {
   "cell_type": "code",
   "execution_count": null,
   "metadata": {},
   "outputs": [],
   "source": [
    "#ptython lists\n",
    "arr1 = list(range(1000000))\n",
    "arr2 = list(range(1000000, 2000000))\n",
    "\n",
    "# numpy arrayys\n",
    "arr1_np = np.array(arr1)\n",
    "arr2_np = np.array(arr2)"
   ]
  },
  {
   "cell_type": "code",
   "execution_count": null,
   "metadata": {},
   "outputs": [],
   "source": [
    "len(arr1_np)"
   ]
  },
  {
   "cell_type": "code",
   "execution_count": null,
   "metadata": {},
   "outputs": [],
   "source": [
    "#%%time\n",
    "result = 0\n",
    "for x1, x2 in zip(arr1, arr2):\n",
    "    result = result + x1 * x2\n",
    "result"
   ]
  },
  {
   "cell_type": "code",
   "execution_count": null,
   "metadata": {},
   "outputs": [],
   "source": [
    "dot = np.dot(arr1_np, arr2_np)\n",
    "dot"
   ]
  },
  {
   "cell_type": "markdown",
   "metadata": {},
   "source": [
    "# Creating NumPy Arrays"
   ]
  },
  {
   "cell_type": "code",
   "execution_count": 384,
   "metadata": {},
   "outputs": [
    {
     "data": {
      "text/plain": [
       "[2, 3, 5, 2, 5]"
      ]
     },
     "execution_count": 384,
     "metadata": {},
     "output_type": "execute_result"
    }
   ],
   "source": [
    "py_list = [2,3,5,2,5]\n",
    "py_list"
   ]
  },
  {
   "cell_type": "code",
   "execution_count": 383,
   "metadata": {},
   "outputs": [
    {
     "data": {
      "text/plain": [
       "array([2, 3, 5, 2, 5])"
      ]
     },
     "execution_count": 383,
     "metadata": {},
     "output_type": "execute_result"
    }
   ],
   "source": [
    "numpy_list = np.array(py_list)\n",
    "numpy_list"
   ]
  },
  {
   "cell_type": "code",
   "execution_count": null,
   "metadata": {},
   "outputs": [],
   "source": [
    "zeros_arr = np.zeros((3, 3))\n",
    "zeros_arr"
   ]
  },
  {
   "cell_type": "code",
   "execution_count": null,
   "metadata": {},
   "outputs": [],
   "source": [
    "# Create an array of ones\n",
    "ones_arr = np.ones((2, 4))\n",
    "ones_arr"
   ]
  },
  {
   "cell_type": "code",
   "execution_count": null,
   "metadata": {},
   "outputs": [],
   "source": [
    "any_num = np.full((3, 4), 9)\n",
    "any_num"
   ]
  },
  {
   "cell_type": "code",
   "execution_count": null,
   "metadata": {},
   "outputs": [],
   "source": [
    "range = np.arange(20, 50, 5)\n",
    "range"
   ]
  },
  {
   "cell_type": "code",
   "execution_count": null,
   "metadata": {},
   "outputs": [],
   "source": [
    "# Create an array of random values\n",
    "rand_arr = np.random.randint(0 , 100, size = (20,))\n",
    "rand_arr"
   ]
  },
  {
   "cell_type": "code",
   "execution_count": null,
   "metadata": {},
   "outputs": [],
   "source": [
    "stat_data = np.random.randint(0, 100, size = (50, 4))\n",
    "stat_data"
   ]
  },
  {
   "cell_type": "code",
   "execution_count": null,
   "metadata": {},
   "outputs": [],
   "source": [
    "stat_data_df = pd.DataFrame(stat_data, columns = ['column 1', 'column 2', 'column 3', 'column 4'])"
   ]
  },
  {
   "cell_type": "code",
   "execution_count": null,
   "metadata": {},
   "outputs": [],
   "source": [
    "stat_data_df"
   ]
  },
  {
   "cell_type": "code",
   "execution_count": null,
   "metadata": {},
   "outputs": [],
   "source": [
    "file_path = r'C:\\Users\\chide\\Documents\\Datasets\\DWBB Academy - Matplotlib and seaborn class\\NumPy generated dataset.csv'\n",
    "stat_data_df.to_csv(file_path)"
   ]
  },
  {
   "cell_type": "code",
   "execution_count": null,
   "metadata": {},
   "outputs": [],
   "source": [
    "# Connecting to CSV Files\n",
    "\n",
    "csv_file = np.genfromtxt(file_path, delimiter = ',', skip_header = True)\n",
    "csv_file"
   ]
  },
  {
   "cell_type": "markdown",
   "metadata": {},
   "source": [
    "# Multi Dimensional Numpy Array"
   ]
  },
  {
   "cell_type": "code",
   "execution_count": null,
   "metadata": {},
   "outputs": [],
   "source": [
    "Image(url = 'https://nustat.github.io/DataScience_Intro_python/Datasets/numpy_image.png')"
   ]
  },
  {
   "cell_type": "code",
   "execution_count": null,
   "metadata": {},
   "outputs": [],
   "source": [
    "#1D array\n",
    "weights"
   ]
  },
  {
   "cell_type": "code",
   "execution_count": null,
   "metadata": {},
   "outputs": [],
   "source": [
    "weights.shape"
   ]
  },
  {
   "cell_type": "code",
   "execution_count": null,
   "metadata": {},
   "outputs": [],
   "source": [
    "#2D array\n",
    "climate_data = np.array([[73, 67, 43],\n",
    "                         [91, 88, 64],\n",
    "                         [87, 134, 58],\n",
    "                         [102, 43, 37],\n",
    "                         [69, 96, 70]])"
   ]
  },
  {
   "cell_type": "code",
   "execution_count": null,
   "metadata": {},
   "outputs": [],
   "source": [
    "climate_data"
   ]
  },
  {
   "cell_type": "code",
   "execution_count": null,
   "metadata": {},
   "outputs": [],
   "source": [
    "climate_data.shape"
   ]
  },
  {
   "cell_type": "code",
   "execution_count": null,
   "metadata": {},
   "outputs": [],
   "source": [
    "#Can have any number of arrays by nesting lists"
   ]
  },
  {
   "cell_type": "code",
   "execution_count": null,
   "metadata": {},
   "outputs": [],
   "source": [
    "arr_3d = np.array([[[1, 2, 3, 4],\n",
    "                    [5, 6, 7, 8,],\n",
    "                    [9, 10, 11, 12]],\n",
    "                   \n",
    "                   [[13, 14, 15, 16],\n",
    "                    [17, 18, 19, 20],\n",
    "                    [21, 22, 23, 24]]])"
   ]
  },
  {
   "cell_type": "code",
   "execution_count": null,
   "metadata": {},
   "outputs": [],
   "source": [
    "arr_3d.shape"
   ]
  },
  {
   "cell_type": "code",
   "execution_count": null,
   "metadata": {},
   "outputs": [],
   "source": [
    "arr_4d = np.array()"
   ]
  },
  {
   "cell_type": "markdown",
   "metadata": {},
   "source": [
    "# Array Operations"
   ]
  },
  {
   "cell_type": "markdown",
   "metadata": {},
   "source": [
    "## Element-wise Operations\n",
    "\n",
    "Element-wise operations perform an operation individually on each element of the array. This can include arithmetic operations like addition, subtraction, multiplication, and division, as well as mathematical functions like exponentiation and trigonometric functions."
   ]
  },
  {
   "cell_type": "code",
   "execution_count": null,
   "metadata": {},
   "outputs": [],
   "source": [
    "#Element-wise Operations\n",
    "\n",
    "arr1 = np.array([1, 2, 3])\n",
    "arr2 = np.array([4, 5, 6])\n",
    "\n",
    "# Element-wise addition\n",
    "result_add = arr1 + arr2\n",
    "result_add"
   ]
  },
  {
   "cell_type": "code",
   "execution_count": null,
   "metadata": {},
   "outputs": [],
   "source": [
    "# Element-wise multiplication\n",
    "result_mul = arr1 * arr2\n",
    "result_mul"
   ]
  },
  {
   "cell_type": "code",
   "execution_count": null,
   "metadata": {},
   "outputs": [],
   "source": [
    "result_mul = arr1 / arr2"
   ]
  },
  {
   "cell_type": "code",
   "execution_count": null,
   "metadata": {},
   "outputs": [],
   "source": [
    "# Matrix multiplication\n",
    "result_matmul = np.matmul(arr1, arr2)\n",
    "result_matmul"
   ]
  },
  {
   "cell_type": "code",
   "execution_count": null,
   "metadata": {},
   "outputs": [],
   "source": [
    "# we can now calculate the our yam yield with one fuction\n",
    "climate_data "
   ]
  },
  {
   "cell_type": "code",
   "execution_count": null,
   "metadata": {},
   "outputs": [],
   "source": [
    "result_exp = np.exp(arr1)\n",
    "result_exp\n",
    "#result_exp.round(3)\n"
   ]
  },
  {
   "cell_type": "markdown",
   "metadata": {},
   "source": [
    "# Aggregation Operations:\n",
    "\n",
    "Aggregation operations compute a summary statistic for the entire array or along a specified axis. Common aggregation functions include np.sum(), np.mean(), np.max(), np.min(), np.std(), and np.median()"
   ]
  },
  {
   "cell_type": "code",
   "execution_count": null,
   "metadata": {},
   "outputs": [],
   "source": [
    "total = np.sum(arr1)\n",
    "total"
   ]
  },
  {
   "cell_type": "code",
   "execution_count": null,
   "metadata": {},
   "outputs": [],
   "source": [
    "climate_data"
   ]
  },
  {
   "cell_type": "code",
   "execution_count": null,
   "metadata": {},
   "outputs": [],
   "source": [
    "#axix = 1 means columns\n",
    "#axis = 0 means rows\n",
    "mean_axis0 = np.sum(climate_data, axis=1)\n",
    "mean_axis0"
   ]
  },
  {
   "cell_type": "code",
   "execution_count": null,
   "metadata": {},
   "outputs": [],
   "source": [
    "mean = np.mean(arr1)\n",
    "mean"
   ]
  },
  {
   "cell_type": "code",
   "execution_count": null,
   "metadata": {},
   "outputs": [],
   "source": [
    "mean_clima_dat = np.mean(climate_data, axis=0)\n",
    "mean_clima_dat"
   ]
  },
  {
   "cell_type": "code",
   "execution_count": null,
   "metadata": {},
   "outputs": [],
   "source": [
    "mean_clima_dat = np.mean(climate_data, axis=1)\n",
    "mean_clima_dat"
   ]
  },
  {
   "cell_type": "code",
   "execution_count": null,
   "metadata": {},
   "outputs": [],
   "source": [
    "rand_arr = np.random.randint(0 , 10, size = (10, 30))\n",
    "rand_arr"
   ]
  },
  {
   "cell_type": "code",
   "execution_count": null,
   "metadata": {},
   "outputs": [],
   "source": [
    "max_random_arr = np.max(rand_arr)\n",
    "max_random_arr"
   ]
  },
  {
   "cell_type": "code",
   "execution_count": null,
   "metadata": {},
   "outputs": [],
   "source": [
    "max_random_arr = np.max(rand_arr, axis = 0)\n",
    "max_random_arr"
   ]
  },
  {
   "cell_type": "code",
   "execution_count": null,
   "metadata": {},
   "outputs": [],
   "source": [
    "np.mean, np.median, np.average\n",
    "\n",
    "# np.mean: This function computes the arithmetic mean along the specified axis. \n",
    "# It calculates the average value of the elements in the array along the specified \n",
    "# axis\n",
    "\n",
    "# np.median: This function computes the median along the specified axis. \n",
    "# The median is the value separating the higher half from the lower half of a data \n",
    "# sample.\n",
    "\n",
    "# np.average: This function computes the weighted average along the specified axis. \n",
    "# It allows specifying weights for each element, which gives more weight to certain \n",
    "# elements over others in the computation of the average.\n",
    "\n",
    "# To calculate the finale grade of a student using weighted avverage\n",
    "\n",
    "'''Let's say you have the following components:\n",
    "\n",
    "Exams (40%)\n",
    "Homework (30%)\n",
    "Class Participation (30%)\n",
    "Now, let's say you have a student, John, who scored as follows:\n",
    "\n",
    "Exams: 85\n",
    "Homework: 90\n",
    "Class Participation: 80 \n",
    "\n",
    "To calculate John's final grade, you would use a weighted average.\n",
    "\n",
    "Here's how you would do it:\n",
    "\n",
    "Assign weights to each component:\n",
    "Exams: 0.40\n",
    "Homework: 0.30\n",
    "Class Participation: 0.30\n",
    "Multiply each component score by its corresponding weight:\n",
    "Exams: 85 * 0.40 = 34\n",
    "Homework: 90 * 0.30 = 27\n",
    "Class Participation: 80 * 0.30 = 24\n",
    "Add up the weighted scores:\n",
    "Total weighted score = 34 + 27 + 24 = 85\n",
    "Divide by the sum of the weights:\n",
    "Final grade = Total weighted score / Sum of weights = 85 / (0.40 + 0.30 + 0.30) = 85 / 1 = 85'''\n",
    "\n",
    "scores = np.array([85, 90, 80])\n",
    "\n",
    "# Weights for each component\n",
    "weights = np.array([0.40, 0.30, 0.30])\n",
    "\n",
    "# Calculate the weighted average\n",
    "final_grade = np.average(scores, weights = weights)\n",
    "\n",
    "print(\"Final grade:\", final_grade)\n"
   ]
  },
  {
   "cell_type": "markdown",
   "metadata": {},
   "source": [
    "# Indexing and Slicing:\n",
    "\n",
    "Indexing and slicing operations allow you to access specific elements or subarrays within an array. You can use integer indices, slices, or boolean arrays for indexing."
   ]
  },
  {
   "cell_type": "code",
   "execution_count": null,
   "metadata": {},
   "outputs": [],
   "source": [
    "ar = np.array([1,2,4,6,77,46,46,35])\n",
    "ar[3:6]"
   ]
  },
  {
   "cell_type": "code",
   "execution_count": null,
   "metadata": {},
   "outputs": [],
   "source": [
    "arr_3d"
   ]
  },
  {
   "cell_type": "code",
   "execution_count": null,
   "metadata": {},
   "outputs": [],
   "source": [
    "arr_3d.shape"
   ]
  },
  {
   "cell_type": "code",
   "execution_count": null,
   "metadata": {},
   "outputs": [],
   "source": [
    "#we can select elements from this array\n",
    "# to access the element at the first row, second column, and first matrix,\n",
    "arr_3d[0, 1, 0]"
   ]
  },
  {
   "cell_type": "code",
   "execution_count": null,
   "metadata": {},
   "outputs": [],
   "source": [
    "# Select 18\n",
    "arr = np.array(arr_3d)\n",
    "# Accessing individual elements\n",
    "print(arr_3d[1, 1, 1])"
   ]
  },
  {
   "cell_type": "code",
   "execution_count": null,
   "metadata": {},
   "outputs": [],
   "source": [
    "# Select 7\n",
    "arr = np.array(arr_3d)\n",
    "# Accessing individual elements\n",
    "print(arr_3d[0, 1, 2])"
   ]
  },
  {
   "cell_type": "code",
   "execution_count": null,
   "metadata": {},
   "outputs": [],
   "source": [
    "# Select one outer list\n",
    "# Accessing individual elements\n",
    "print(arr_3d[1])"
   ]
  },
  {
   "cell_type": "code",
   "execution_count": null,
   "metadata": {},
   "outputs": [],
   "source": [
    "#Slicing --> out\n",
    "array = np.array([1, 2, 3, 4, 5])\n",
    "\n",
    "array[1:4]\n"
   ]
  },
  {
   "cell_type": "code",
   "execution_count": null,
   "metadata": {},
   "outputs": [],
   "source": [
    "climate_data"
   ]
  },
  {
   "cell_type": "code",
   "execution_count": null,
   "metadata": {},
   "outputs": [],
   "source": [
    "climate_data.shape"
   ]
  },
  {
   "cell_type": "code",
   "execution_count": null,
   "metadata": {},
   "outputs": [],
   "source": [
    "# Slicing 2D lists\n",
    "climate_data[4:]\n",
    "#climate_data[3:5]\n",
    "#climate_data[:3, 0:2]"
   ]
  },
  {
   "cell_type": "code",
   "execution_count": null,
   "metadata": {},
   "outputs": [],
   "source": [
    "# Slicing 3D lists\n",
    "arr_3d[1:, 0:1, :2]"
   ]
  },
  {
   "cell_type": "markdown",
   "metadata": {},
   "source": [
    "# Reshaping and Transposing:\n",
    "\n",
    "Reshaping operations modify the shape of an array, while transposing operations interchange rows and columns of a multidimensional array."
   ]
  },
  {
   "cell_type": "markdown",
   "metadata": {},
   "source": [
    "# Some rules to consider when reshaping Arrays\n",
    "\n",
    "The total number of elements in the original array must be equal to the total\\\n",
    "number of elements in the reshaped array.\n",
    "\n",
    "The new shape should be compatible with the original shape. For example,\\\n",
    "reshaping a (3, 4) array to a (4, 3) array is fine because both shapes have the\\\n",
    "same number of elements. However, reshaping a (3, 4) array to a (4, 2) array\\\n",
    "would raise an error because the total number of elements is different."
   ]
  },
  {
   "cell_type": "code",
   "execution_count": null,
   "metadata": {},
   "outputs": [],
   "source": [
    "array_2d = np.array([[1, 2], [3, 4], [5, 6]])\n",
    "array_2d\n"
   ]
  },
  {
   "cell_type": "code",
   "execution_count": null,
   "metadata": {},
   "outputs": [],
   "source": [
    "array_2d.shape"
   ]
  },
  {
   "cell_type": "code",
   "execution_count": null,
   "metadata": {},
   "outputs": [],
   "source": [
    "array_2d.reshape(2, 3)"
   ]
  },
  {
   "cell_type": "code",
   "execution_count": null,
   "metadata": {},
   "outputs": [],
   "source": [
    "array_2d.reshape(1, 6)"
   ]
  },
  {
   "cell_type": "code",
   "execution_count": null,
   "metadata": {},
   "outputs": [],
   "source": [
    "#transposing an Array\n",
    "\n",
    "array_2d"
   ]
  },
  {
   "cell_type": "code",
   "execution_count": null,
   "metadata": {},
   "outputs": [],
   "source": [
    "array_2d.T.shape"
   ]
  },
  {
   "cell_type": "code",
   "execution_count": null,
   "metadata": {},
   "outputs": [],
   "source": [
    "arr_3d"
   ]
  },
  {
   "cell_type": "code",
   "execution_count": null,
   "metadata": {},
   "outputs": [],
   "source": [
    "arr_3d.shape"
   ]
  },
  {
   "cell_type": "code",
   "execution_count": null,
   "metadata": {},
   "outputs": [],
   "source": [
    "arr_3d.reshape(1, 24)"
   ]
  },
  {
   "cell_type": "code",
   "execution_count": null,
   "metadata": {},
   "outputs": [],
   "source": [
    "arr_3d.reshape(3,2,4)"
   ]
  },
  {
   "cell_type": "code",
   "execution_count": null,
   "metadata": {},
   "outputs": [],
   "source": [
    "#transposing a 3D Array\n",
    "arr_3d\n"
   ]
  },
  {
   "cell_type": "code",
   "execution_count": null,
   "metadata": {},
   "outputs": [],
   "source": [
    "arr_3d.shape\n"
   ]
  },
  {
   "cell_type": "code",
   "execution_count": null,
   "metadata": {},
   "outputs": [],
   "source": [
    "arr_3d.T"
   ]
  },
  {
   "cell_type": "code",
   "execution_count": null,
   "metadata": {},
   "outputs": [],
   "source": [
    "arr_3d.shape"
   ]
  },
  {
   "cell_type": "code",
   "execution_count": null,
   "metadata": {},
   "outputs": [],
   "source": [
    "range"
   ]
  },
  {
   "cell_type": "code",
   "execution_count": null,
   "metadata": {},
   "outputs": [],
   "source": [
    "range.reshape(2, 3)"
   ]
  },
  {
   "cell_type": "code",
   "execution_count": null,
   "metadata": {},
   "outputs": [],
   "source": [
    "range.reshape(3, 2)"
   ]
  },
  {
   "cell_type": "code",
   "execution_count": null,
   "metadata": {},
   "outputs": [],
   "source": [
    "range.reshape(3, 2, 1)"
   ]
  },
  {
   "cell_type": "code",
   "execution_count": null,
   "metadata": {},
   "outputs": [],
   "source": [
    "range.reshape(1, 3, 2, 1)"
   ]
  },
  {
   "cell_type": "markdown",
   "metadata": {},
   "source": [
    "# Using np.concatenate():\n",
    "np.concatenate() is used to concatenate arrays along a specified axis."
   ]
  },
  {
   "cell_type": "code",
   "execution_count": null,
   "metadata": {},
   "outputs": [],
   "source": [
    "arr1 = np.array([[1, 2, 3],\n",
    "                 [4, 5, 6]])\n",
    "\n",
    "arr2 = np.array([[7, 8, 9],\n",
    "                 [10, 11, 12]])"
   ]
  },
  {
   "cell_type": "code",
   "execution_count": null,
   "metadata": {},
   "outputs": [],
   "source": [
    "concatenated_rows = np.concatenate((arr1, arr2), axis = 0)\n",
    "concatenated_rows"
   ]
  },
  {
   "cell_type": "code",
   "execution_count": null,
   "metadata": {},
   "outputs": [],
   "source": [
    "concatenated_columns = np.concatenate((arr1, arr2), axis = 1)\n",
    "concatenated_columns"
   ]
  },
  {
   "cell_type": "markdown",
   "metadata": {},
   "source": [
    "# Using np.split():\n",
    "\n",
    "np.split() is used to split an array into multiple sub-arrays along a specified axis. Here's an example:"
   ]
  },
  {
   "cell_type": "code",
   "execution_count": null,
   "metadata": {},
   "outputs": [],
   "source": [
    "split_concat_row = np.split(concatenated_rows, 2)\n",
    "split_concat_row"
   ]
  },
  {
   "cell_type": "code",
   "execution_count": null,
   "metadata": {},
   "outputs": [],
   "source": [
    "split_arr = np.split(concatenated_columns, 2)\n",
    "split_arr"
   ]
  },
  {
   "cell_type": "markdown",
   "metadata": {},
   "source": [
    "# Broadcasting:\n",
    "Broadcasting is a powerful feature in NumPy that allows you to perform  element-wise operations directly on arrays with different shapes.\\\n",
    "It automatically aligns arrays with compatible shapes during arithmetic operations."
   ]
  },
  {
   "cell_type": "code",
   "execution_count": null,
   "metadata": {},
   "outputs": [],
   "source": [
    "arr = np.arange(5)\n",
    "arr"
   ]
  },
  {
   "cell_type": "code",
   "execution_count": null,
   "metadata": {},
   "outputs": [],
   "source": [
    "arr + 5"
   ]
  },
  {
   "cell_type": "code",
   "execution_count": null,
   "metadata": {},
   "outputs": [],
   "source": [
    "arr = np.array([[1, 2, 3], [4, 5, 6]])\n",
    "scalar = 2\n",
    "\n",
    "result_broadcast = arr * scalar\n",
    "\n",
    "result_broadcast\n"
   ]
  },
  {
   "cell_type": "code",
   "execution_count": null,
   "metadata": {},
   "outputs": [],
   "source": [
    "a1 = np.arange(5)\n",
    "\n",
    "a1"
   ]
  },
  {
   "cell_type": "code",
   "execution_count": null,
   "metadata": {},
   "outputs": [],
   "source": [
    "a2 = np.arange(5).reshape(5, 1)\n",
    "\n",
    "a2"
   ]
  },
  {
   "cell_type": "code",
   "execution_count": null,
   "metadata": {},
   "outputs": [],
   "source": [
    "a1 * a2"
   ]
  },
  {
   "cell_type": "code",
   "execution_count": null,
   "metadata": {},
   "outputs": [],
   "source": [
    "arr + a2"
   ]
  },
  {
   "cell_type": "markdown",
   "metadata": {},
   "source": [
    "Let's say we have a dataset with multiple columns and you want to normalize each feature so that their values fall within a certain range, such as between 0 and 1\n",
    "\n",
    "What is Data Normalization\n",
    "\n",
    "Data normalization is a technique used to rescale the values of numerical features to a standard range, typically between 0 and 1...that's machine learning territory and soo much maths."
   ]
  },
  {
   "cell_type": "code",
   "execution_count": null,
   "metadata": {},
   "outputs": [],
   "source": [
    "data = pd.DataFrame({\n",
    "    'Column 1': [10, 15, 20],\n",
    "    'Column 2': [20, 25, 30],\n",
    "    'Column 3': [30, 35, 40]\n",
    "})\n",
    "\n",
    "# Calculate the mean and standard deviation of each feature\n",
    "mean = data.mean()\n",
    "std_dev = data.std()\n"
   ]
  },
  {
   "cell_type": "code",
   "execution_count": null,
   "metadata": {},
   "outputs": [],
   "source": [
    "mean"
   ]
  },
  {
   "cell_type": "code",
   "execution_count": null,
   "metadata": {},
   "outputs": [],
   "source": [
    "std_dev"
   ]
  },
  {
   "cell_type": "code",
   "execution_count": null,
   "metadata": {},
   "outputs": [],
   "source": [
    "data"
   ]
  },
  {
   "cell_type": "code",
   "execution_count": null,
   "metadata": {},
   "outputs": [],
   "source": [
    "# Normalize each feature\n",
    "normalized_data = (data - mean) / std_dev\n",
    "\n",
    "normalized_data"
   ]
  },
  {
   "cell_type": "markdown",
   "metadata": {},
   "source": [
    "## Here is an important rule for broadcasting in NumPy:\n",
    "\n",
    "Dimensions must be compatible:\n",
    "Broadcasting can only be performed if the dimensions of the arrays are compatible. Two dimensions are compatible when they are equal, or one of them is 1. Broadcasting then extends the dimension with size 1 to match the size of the other dimension.\n",
    "\n"
   ]
  },
  {
   "cell_type": "code",
   "execution_count": null,
   "metadata": {},
   "outputs": [],
   "source": [
    "Image(url = 'https://jakevdp.github.io/PythonDataScienceHandbook/figures/02.05-broadcasting.png')"
   ]
  },
  {
   "cell_type": "markdown",
   "metadata": {},
   "source": [
    "# Linear Algebra with NumPy\n",
    "\n",
    "There very many applications of linear algebra.\\\n",
    "In data science, in particular,there are several ones of high importance.\\\n",
    "we will explore 3 of them:\n",
    "\n",
    "• Vectorized code also known as array programming\n",
    "• Image recognition\n",
    "• Dimensionality reduction\n",
    "\n",
    "The simplest and probably the most commonly used one – vectorized\n",
    "code. \n",
    "\n",
    "We can certainly claim that the price of a house depends on its size. Suppose you know\n",
    "that the exact relationship for some neighborhood is given by the equation\\\n",
    "Price = 10,190 + 223 * size. Moreover, you know the sizes of 5 houses 693, 656, 1060, 487, and 1275 square feet.\n",
    "\n"
   ]
  },
  {
   "cell_type": "code",
   "execution_count": null,
   "metadata": {},
   "outputs": [],
   "source": [
    "# Calculate the price of each house\n",
    "size = 693\n",
    "price = 10190 + 223 * size\n",
    "\n",
    "print(price)"
   ]
  },
  {
   "cell_type": "code",
   "execution_count": null,
   "metadata": {},
   "outputs": [],
   "source": [
    "# Using a for loop\n",
    "sizes = [693, 656, 1060, 487, 1275]\n",
    "for size in sizes:\n",
    "    price = 10190 + 223 * size\n",
    "    print(price)"
   ]
  },
  {
   "cell_type": "code",
   "execution_count": null,
   "metadata": {},
   "outputs": [],
   "source": [
    "# Using Linear algebra\n",
    "sizes = np.array([[1, 693], [1, 656], [1, 1060], [1, 487], [1, 1275]])\n",
    "\n",
    "sizes"
   ]
  },
  {
   "cell_type": "code",
   "execution_count": null,
   "metadata": {},
   "outputs": [],
   "source": [
    "sizes.shape"
   ]
  },
  {
   "cell_type": "code",
   "execution_count": null,
   "metadata": {},
   "outputs": [],
   "source": [
    "price = np.array([10190, 223])\n",
    "\n",
    "price"
   ]
  },
  {
   "cell_type": "code",
   "execution_count": null,
   "metadata": {},
   "outputs": [],
   "source": [
    "price.shape"
   ]
  },
  {
   "cell_type": "code",
   "execution_count": null,
   "metadata": {},
   "outputs": [],
   "source": [
    "np.dot(sizes, price)"
   ]
  },
  {
   "cell_type": "code",
   "execution_count": null,
   "metadata": {},
   "outputs": [],
   "source": []
  }
 ],
 "metadata": {
  "kernelspec": {
   "display_name": "Python 3 (ipykernel)",
   "language": "python",
   "name": "python3"
  },
  "language_info": {
   "codemirror_mode": {
    "name": "ipython",
    "version": 3
   },
   "file_extension": ".py",
   "mimetype": "text/x-python",
   "name": "python",
   "nbconvert_exporter": "python",
   "pygments_lexer": "ipython3",
   "version": "3.10.11"
  }
 },
 "nbformat": 4,
 "nbformat_minor": 2
}
