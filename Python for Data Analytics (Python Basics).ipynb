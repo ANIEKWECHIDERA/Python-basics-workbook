{
 "cells": [
  {
   "cell_type": "code",
   "execution_count": null,
   "metadata": {},
   "outputs": [],
   "source": [
    "print('Hello World')"
   ]
  },
  {
   "cell_type": "markdown",
   "metadata": {},
   "source": [
    "# Variables and data types"
   ]
  },
  {
   "cell_type": "code",
   "execution_count": null,
   "metadata": {},
   "outputs": [],
   "source": [
    "Name = 'Joseph'\n",
    "Age = 34\n",
    "height_M = 192.4\n",
    "is_male = True"
   ]
  },
  {
   "cell_type": "code",
   "execution_count": null,
   "metadata": {},
   "outputs": [],
   "source": [
    "name = 'mike'\n",
    "age = \"56\"\n",
    "\n",
    "print(\"There once was a man named \" + name + \",\" )\n",
    "print(\"he was \" + age + \" year old.\")\n",
    "print(\"He really liked the named \" + name + \",\")\n",
    "print(\"but didn't like being \" + age)\n"
   ]
  },
  {
   "cell_type": "markdown",
   "metadata": {},
   "source": [
    "## Strings and String functions"
   ]
  },
  {
   "cell_type": "code",
   "execution_count": null,
   "metadata": {},
   "outputs": [],
   "source": [
    "phrase = 'DWBB Academy'\n",
    "print(phrase)"
   ]
  },
  {
   "cell_type": "code",
   "execution_count": null,
   "metadata": {},
   "outputs": [],
   "source": [
    "phrase = 'DWBB Academy'\n",
    "print(phrase.lower())"
   ]
  },
  {
   "cell_type": "code",
   "execution_count": null,
   "metadata": {},
   "outputs": [],
   "source": [
    "phrase = 'DWBB Academy'\n",
    "print(phrase.upper())"
   ]
  },
  {
   "cell_type": "code",
   "execution_count": null,
   "metadata": {},
   "outputs": [],
   "source": [
    "phrase = 'DWBB Academy'\n",
    "print(phrase.capitalize())"
   ]
  },
  {
   "cell_type": "code",
   "execution_count": null,
   "metadata": {},
   "outputs": [],
   "source": [
    "phrase = 'DWBB Academy'\n",
    "print(phrase + ' is the best.')"
   ]
  },
  {
   "cell_type": "code",
   "execution_count": null,
   "metadata": {},
   "outputs": [],
   "source": [
    "phrase2 = ' DWBB Academy '\n",
    "phrase2.strip()"
   ]
  },
  {
   "cell_type": "code",
   "execution_count": null,
   "metadata": {},
   "outputs": [],
   "source": [
    "phrase2 = ' DWBB   Academy '\n",
    "phrase2 = phrase2.replace('   ', ' ')\n",
    "phrase2\n",
    "#phrase2.strip()"
   ]
  },
  {
   "cell_type": "code",
   "execution_count": null,
   "metadata": {},
   "outputs": [],
   "source": [
    "phrase = 'DWBB Academy'\n",
    "print(phrase.replace(\"DWBB\", \"Data\"))\n"
   ]
  },
  {
   "cell_type": "code",
   "execution_count": null,
   "metadata": {},
   "outputs": [],
   "source": [
    "'''list = ['F', 'R', 'A', 'N', 'C', 'I', 'S']\n",
    "sep = \"+\"\n",
    "\n",
    "sep.join(list)'''\n",
    "\n",
    "help(str.join)"
   ]
  },
  {
   "cell_type": "markdown",
   "metadata": {},
   "source": [
    "# Indexing"
   ]
  },
  {
   "cell_type": "markdown",
   "metadata": {},
   "source": [
    "Indexing starts at 0"
   ]
  },
  {
   "cell_type": "code",
   "execution_count": null,
   "metadata": {},
   "outputs": [],
   "source": [
    "phrase = 'DWBB Academy'\n",
    "print(len(phrase))"
   ]
  },
  {
   "cell_type": "code",
   "execution_count": null,
   "metadata": {},
   "outputs": [],
   "source": [
    "phrase = 'DWBB Academy'\n",
    "print(phrase.index(\"B\"))"
   ]
  },
  {
   "cell_type": "code",
   "execution_count": null,
   "metadata": {},
   "outputs": [],
   "source": [
    "phrase = 'DWBB Academy'\n",
    "print(phrase[8])"
   ]
  },
  {
   "cell_type": "code",
   "execution_count": null,
   "metadata": {},
   "outputs": [],
   "source": [
    "phrase = 'DWBB Academy'\n",
    "print(phrase.count(\"D\"))"
   ]
  },
  {
   "cell_type": "code",
   "execution_count": null,
   "metadata": {},
   "outputs": [],
   "source": [
    "'''phrase = 'DWBB Academy'\n",
    "\n",
    "try:\n",
    "    print(phrase.index('r'))\n",
    "except ValueError:\n",
    "    print('Try again')\n",
    "'''"
   ]
  },
  {
   "cell_type": "markdown",
   "metadata": {},
   "source": [
    "# Working with Numbers"
   ]
  },
  {
   "cell_type": "code",
   "execution_count": null,
   "metadata": {},
   "outputs": [],
   "source": [
    "print(38.983)\n",
    "\n",
    "print(3 * 4 + 5)\n",
    "\n",
    "print(\"\")\n",
    "\n",
    "print(3 * (4 + 5))"
   ]
  },
  {
   "cell_type": "code",
   "execution_count": null,
   "metadata": {},
   "outputs": [],
   "source": [
    "#mod operator\n",
    "#can be used to categorize data based on even or odd numbers\n",
    "print(10 % 3)"
   ]
  },
  {
   "cell_type": "code",
   "execution_count": null,
   "metadata": {},
   "outputs": [],
   "source": [
    "data = []\n",
    "data['discount'] = (data['purchase_number'] % 5 == 0).astype(int)  # Every 5th purchase gets a discount\n"
   ]
  },
  {
   "cell_type": "code",
   "execution_count": null,
   "metadata": {},
   "outputs": [],
   "source": [
    "#convert number into a string\n",
    "num = 50\n",
    "print(str(num)+ ' is my Favourite number')"
   ]
  },
  {
   "cell_type": "code",
   "execution_count": null,
   "metadata": {},
   "outputs": [],
   "source": [
    "#convert number into a string\n",
    "num = 50\n",
    "sent = 'is my Favourite number'\n",
    "print(num, sent)"
   ]
  },
  {
   "cell_type": "code",
   "execution_count": null,
   "metadata": {},
   "outputs": [],
   "source": [
    "#3**2\n",
    "print(pow(3, 2))"
   ]
  },
  {
   "cell_type": "code",
   "execution_count": null,
   "metadata": {},
   "outputs": [],
   "source": [
    "print(max(3, 5, 3, 7, 9, 9.1))\n",
    "\n",
    "print(min(3, 5, 3, 7, 9, 9.1))\n"
   ]
  },
  {
   "cell_type": "code",
   "execution_count": null,
   "metadata": {},
   "outputs": [],
   "source": [
    "print(round(9.1))"
   ]
  },
  {
   "cell_type": "markdown",
   "metadata": {},
   "source": [
    "# Getting inputs"
   ]
  },
  {
   "cell_type": "code",
   "execution_count": null,
   "metadata": {},
   "outputs": [],
   "source": [
    "user_name = input('Enter your name: ')\n",
    "print('Hello ' + user_name.capitalize())"
   ]
  },
  {
   "cell_type": "code",
   "execution_count": null,
   "metadata": {},
   "outputs": [],
   "source": [
    "user_name = input('Enter your name: ')\n",
    "print(f\"Hello {user_name}!\")"
   ]
  },
  {
   "cell_type": "code",
   "execution_count": null,
   "metadata": {},
   "outputs": [],
   "source": [
    "user_name = input('Enter your name: ')\n",
    "age = input('Enter your age: ')\n",
    "print(f\"Hello {user_name}! you are {age}\")"
   ]
  },
  {
   "cell_type": "markdown",
   "metadata": {},
   "source": [
    "# let's build a calculator"
   ]
  },
  {
   "cell_type": "code",
   "execution_count": null,
   "metadata": {},
   "outputs": [],
   "source": [
    "#it returned 45...why??\n",
    "num1 = input(\"Enter a number: \")\n",
    "num2 = input(\"Enter another number: \")\n",
    "result = num1 + num2\n",
    "\n",
    "print(result)"
   ]
  },
  {
   "cell_type": "code",
   "execution_count": null,
   "metadata": {},
   "outputs": [],
   "source": [
    "num1 = input(\"Enter a number: \")\n",
    "num2 = input(\"Enter another number: \")\n",
    "result = int(num1) + int(num2)\n",
    "\n",
    "print(result)"
   ]
  },
  {
   "cell_type": "code",
   "execution_count": null,
   "metadata": {},
   "outputs": [],
   "source": [
    "\n"
   ]
  },
  {
   "cell_type": "markdown",
   "metadata": {},
   "source": [
    "# Madlibs Game"
   ]
  },
  {
   "cell_type": "code",
   "execution_count": null,
   "metadata": {},
   "outputs": [],
   "source": [
    "from time import sleep\n",
    "\n",
    "celebrity = input('Enter name of celebrity: ')\n",
    "planet = input('Enter name of Planet: ')\n",
    "noun = input('Enter a Noun: ')\n",
    "activity = input('Enter name of activity: ')\n",
    "\n",
    "sleep(5)\n",
    "\n",
    "print(\"My name is \" + celebrity)\n",
    "print(\"i'm from \" + planet)\n",
    "print(\"My favoutite food is \" + noun)\n",
    "print('I enjoy ' + activity)"
   ]
  },
  {
   "cell_type": "markdown",
   "metadata": {},
   "source": [
    "# Lists"
   ]
  },
  {
   "cell_type": "code",
   "execution_count": null,
   "metadata": {},
   "outputs": [],
   "source": [
    "# A data structure for storing and managing values or data \n",
    "friends = ['Mike', 'Dwayne Johnson', 'John cena']\n",
    "\n",
    "print(friends)"
   ]
  },
  {
   "cell_type": "code",
   "execution_count": null,
   "metadata": {},
   "outputs": [],
   "source": [
    "#list index\n",
    "friends = ['Mike Tyson', 'Dwayne Johnson', 'John cena', 'Zack Efrom', 'mitchell Obama']\n",
    "\n",
    "print(friends[2])\n",
    "print(friends[-3])"
   ]
  },
  {
   "cell_type": "code",
   "execution_count": null,
   "metadata": {},
   "outputs": [],
   "source": [
    "#list index\n",
    "friends = ['Mike Tyson', 'Dwayne Johnson', 'John cena', 'Zack Efrom', 'mitchell Obama']\n",
    "\n",
    "print(friends[1:])\n",
    "print(friends[1:4])"
   ]
  },
  {
   "cell_type": "code",
   "execution_count": null,
   "metadata": {},
   "outputs": [],
   "source": [
    "#modify lists\n",
    "friends = ['Mike Tyson', 'Dwayne Johnson', 'John cena', 'Zack Efrom', 'mitchell Obama']\n",
    "\n",
    "friends[3] = 'Robert Downy Jr'\n",
    "\n",
    "print(friends)"
   ]
  },
  {
   "cell_type": "markdown",
   "metadata": {},
   "source": [
    "# List Functions"
   ]
  },
  {
   "cell_type": "code",
   "execution_count": null,
   "metadata": {},
   "outputs": [],
   "source": [
    "#Extend, append, insert, remove, clear, pop, count, sort, len\n",
    "\n",
    "friends = ['Mike Tyson', 'Dwayne Johnson', 'John cena', 'Zack Efrom', 'mitchell Obama']\n",
    "number = [2, 3, 6, 87, 4, 2, 5, 46, 2.7, 35, 5]\n",
    "\n",
    "friends.append('Jessica Alba')\n",
    "number.append(5)\n",
    "\n",
    "number.extend(friends)\n",
    "\n",
    "\n",
    "print(number)"
   ]
  },
  {
   "cell_type": "code",
   "execution_count": null,
   "metadata": {},
   "outputs": [],
   "source": [
    "friends = ['Mike Tyson', 'Dwayne Johnson', 'John cena', 'Zack Efrom', 'mitchell Obama']\n",
    "number = [2, 3, 6, 87, 4, 2, 5, 46, 2.7, 35, 5]\n",
    "\n",
    "number.insert(3, 5,)\n",
    "number"
   ]
  },
  {
   "cell_type": "code",
   "execution_count": null,
   "metadata": {},
   "outputs": [],
   "source": [
    "friends = ['Mike Tyson', 'Dwayne Johnson', 'John cena', 'Zack Efrom', 'mitchell Obama']\n",
    "number = [2, 3, 6, 87, 4, 2, 5, 46, 2.7, 35, 5]\n",
    "\n",
    "friends.remove('Zack Efrom')\n",
    "friends"
   ]
  },
  {
   "cell_type": "code",
   "execution_count": null,
   "metadata": {},
   "outputs": [],
   "source": [
    "friends = ['Mike Tyson', 'Dwayne Johnson', 'John cena', 'Zack Efrom', 'mitchell Obama']\n",
    "number = [2, 3, 6, 87, 4, 2, 5, 46, 2.7, 35, 5]\n",
    "\n",
    "len(number)"
   ]
  },
  {
   "cell_type": "markdown",
   "metadata": {},
   "source": [
    "# Tuples"
   ]
  },
  {
   "cell_type": "code",
   "execution_count": null,
   "metadata": {},
   "outputs": [],
   "source": [
    "# It is a type of data structure for storing data, it is immutable\n",
    "\n",
    "coordinates = (2,5)\n",
    "\n",
    "coordinates[1]"
   ]
  },
  {
   "cell_type": "code",
   "execution_count": null,
   "metadata": {},
   "outputs": [],
   "source": [
    "lists = [[2, 3, 6, 87, 4, 2, 5, 46, 2.7, 35, 5], ['Mike Tyson', 'Dwayne Johnson', 'John cena', 'Zack Efrom', 'mitchell Obama']]\n",
    "tuples = [(2,5), (5,8), (2,9)]\n",
    "\n",
    "lists[1][3]"
   ]
  },
  {
   "cell_type": "markdown",
   "metadata": {},
   "source": [
    "# Functions"
   ]
  },
  {
   "cell_type": "code",
   "execution_count": null,
   "metadata": {},
   "outputs": [],
   "source": [
    "# A collection of code that performs a specific task\n",
    "def say_hi():\n",
    "    sent = 'Hello, Have a great day'\n",
    "    print(sent)\n",
    "    \n",
    "say_hi()"
   ]
  },
  {
   "cell_type": "code",
   "execution_count": null,
   "metadata": {},
   "outputs": [],
   "source": [
    "\n",
    "def say_hi(name):\n",
    "    sent = 'Hello ' + name + ', Have a great day'\n",
    "    print(sent)\n",
    "    \n",
    "say_hi(\"Chidera\")"
   ]
  },
  {
   "cell_type": "code",
   "execution_count": null,
   "metadata": {},
   "outputs": [],
   "source": [
    "#Return Function\n",
    "def cube(num):\n",
    "    cal = num * num * num\n",
    "    print(cal)\n",
    "    \n",
    "cube(3)"
   ]
  },
  {
   "cell_type": "code",
   "execution_count": null,
   "metadata": {},
   "outputs": [],
   "source": [
    "def cube(num):\n",
    "    return num * num * num\n",
    "    \n",
    "    \n",
    "cube(3)"
   ]
  },
  {
   "cell_type": "code",
   "execution_count": null,
   "metadata": {},
   "outputs": [],
   "source": [
    "def mean(*nums):\n",
    "    return sum(nums) / len(nums)\n",
    "\n",
    "# Example usage\n",
    "average = mean(3, 5, 3, 7, 9, 9.1)\n",
    "print(average)"
   ]
  },
  {
   "cell_type": "code",
   "execution_count": null,
   "metadata": {},
   "outputs": [],
   "source": [
    "def mean(*args):\n",
    "    return sum(args) / len(args)\n",
    "\n",
    "\n",
    "average = round(mean(3, 5, 3, 7, 9, 9.1), 2)\n",
    "print(average)"
   ]
  },
  {
   "cell_type": "markdown",
   "metadata": {},
   "source": [
    "# IF statements"
   ]
  },
  {
   "cell_type": "code",
   "execution_count": null,
   "metadata": {},
   "outputs": [],
   "source": [
    "#if, Or, else, and elif, not\n",
    "\n",
    "is_male = True\n",
    "is_dark = True\n",
    " \n",
    "if is_male:\n",
    "    print('You are a Male')\n",
    "\n",
    " "
   ]
  },
  {
   "cell_type": "code",
   "execution_count": null,
   "metadata": {},
   "outputs": [],
   "source": [
    "is_male = True\n",
    "is_dark = False\n",
    " \n",
    "if is_male and is_dark:\n",
    "    print('You are a dark Male')\n",
    "elif is_male and not (is_dark):\n",
    "    print('You are a male but not dark')\n",
    "elif not (is_male) and is_dark:\n",
    "    print('You are not a male but you are dark')\n",
    "elif not(is_male) and not(is_dark):\n",
    "    print('You are neither male nor dark')\n",
    "    "
   ]
  },
  {
   "cell_type": "markdown",
   "metadata": {},
   "source": [
    "# If statements & Comparisons"
   ]
  },
  {
   "cell_type": "code",
   "execution_count": null,
   "metadata": {},
   "outputs": [],
   "source": [
    "def max_num(num1, num2, num3):\n",
    "    sent = \"Max number = \"\n",
    "    if num1 >= num2 and num1 >= num3:\n",
    "        return sent + str(num1)\n",
    "    elif num2 >= num1 and num2 >= num3:\n",
    "        return sent + str(num2)\n",
    "    else :\n",
    "        return sent + str(num3)\n",
    "    \n",
    "    \n",
    "max_num(34.1, 0, 34.10000001)"
   ]
  },
  {
   "cell_type": "markdown",
   "metadata": {},
   "source": [
    "# Building an advanced calculator"
   ]
  },
  {
   "cell_type": "code",
   "execution_count": null,
   "metadata": {},
   "outputs": [],
   "source": [
    "num1 = float(input('Enter first number :'))\n",
    "op = input('Enter operator :')\n",
    "num2 = float(input('Enter second number :'))\n",
    "\n",
    "if op == '+':\n",
    "    print (num1 + num2)\n",
    "elif op == \"-\":\n",
    "    print(num1 - num2)\n",
    "elif op == '/':\n",
    "    print(num1 / num2)\n",
    "elif op == \"*\":\n",
    "    print(num1 * num2)\n",
    "else:\n",
    "    print('Invalid operator')\n"
   ]
  },
  {
   "cell_type": "code",
   "execution_count": null,
   "metadata": {},
   "outputs": [],
   "source": [
    "'''from time import sleep\n",
    "\n",
    "num1 = float(input('Enter number :'))\n",
    "op = input('Enter operator :')\n",
    "\n",
    "while op != \"=\":\n",
    "    num2 = float(input('Enter number :'))\n",
    "    op = input('Enter operator :')\n",
    "else:\n",
    "    if op == '+':\n",
    "        #sleep(2)\n",
    "        print (num1 + num2)\n",
    "    elif op == \"-\":\n",
    "        #sleep(2)\n",
    "        print(num1 - num2)\n",
    "    elif op == '/':\n",
    "        #sleep(2)\n",
    "        print(num1 / num2)\n",
    "    elif op == \"*\":\n",
    "        #sleep(2)\n",
    "        print(num1 * num2)\n",
    "    else:\n",
    "        #sleep(2)\n",
    "        print('Invalid operator')\n",
    "'''"
   ]
  },
  {
   "cell_type": "markdown",
   "metadata": {},
   "source": [
    "# Dictionaries"
   ]
  },
  {
   "cell_type": "code",
   "execution_count": null,
   "metadata": {},
   "outputs": [],
   "source": [
    "# A special structure for storing information in key value pairs\n",
    "\n",
    "days = {\n",
    "    'mon': 'Monday',\n",
    "    'Tue': 'Tuesday',\n",
    "    'Wed': 'Wednesday',\n",
    "    'Thur': 'Thursday',\n",
    "    'Fri': 'Friday',\n",
    "    'Sat': 'Saturday',\n",
    "    'Sun': 'Sunday'\n",
    "}\n",
    "\n",
    "print(days.get('man'))\n",
    "\n",
    "print(days['mon'])\n"
   ]
  },
  {
   "cell_type": "markdown",
   "metadata": {},
   "source": [
    "# While loop"
   ]
  },
  {
   "cell_type": "code",
   "execution_count": null,
   "metadata": {},
   "outputs": [],
   "source": [
    "from time import sleep\n",
    "# A structure that enable you to loop through and excute a block of code multiple times untill a certain condition is met\n",
    "a = 1\n",
    "while a <= 20:\n",
    "    sleep(0.125)\n",
    "    print(a)\n",
    "    a += 1\n",
    "sleep(1)\n",
    "print('a >= 20')\n",
    "\n"
   ]
  },
  {
   "cell_type": "markdown",
   "metadata": {},
   "source": [
    "# Building a guessing game"
   ]
  },
  {
   "cell_type": "code",
   "execution_count": null,
   "metadata": {},
   "outputs": [],
   "source": [
    "secret_word = 'DWBB'\n",
    "guess = ''\n",
    "\n",
    "print('Welcome to my guessing game, try to guess the secret word')\n",
    "while guess != secret_word:\n",
    "    guess = input('Enter Guess: ')\n",
    "    \n",
    "print('You win')"
   ]
  },
  {
   "cell_type": "code",
   "execution_count": null,
   "metadata": {},
   "outputs": [],
   "source": [
    "# While loops can go on forever\n",
    "\n",
    "secret_word = 'DWBB'\n",
    "guess = ''\n",
    "guess_count = 0\n",
    "guess_limit = 3\n",
    "out_of_guesses = False\n",
    "\n",
    "while guess != secret_word:\n",
    "    if guess_count < guess_limit:\n",
    "        guess = input('Enter Guess: ')\n",
    "        guess_count += 1\n",
    "    else:\n",
    "        print('Out of guesses')\n",
    "    \n",
    "print('You win')"
   ]
  },
  {
   "cell_type": "code",
   "execution_count": null,
   "metadata": {},
   "outputs": [],
   "source": [
    "secret_word = 'DWBB'\n",
    "guess = ''\n",
    "guess_count = 0\n",
    "guess_limit = 3\n",
    "out_of_guesses = False\n",
    "\n",
    "while guess != secret_word and out_of_guesses != True:\n",
    "    if guess_count < guess_limit:\n",
    "        guess = input(f'You have {guess_limit - guess_count } trial(s) \\n Enter Guess: ')\n",
    "        guess_count += 1\n",
    "    else:\n",
    "        out_of_guesses = True\n",
    "        \n",
    "if out_of_guesses:\n",
    "    print('Out of Guesses, please try again')\n",
    "else:\n",
    "    print('Correct Guess')\n",
    "    "
   ]
  },
  {
   "cell_type": "markdown",
   "metadata": {},
   "source": []
  },
  {
   "cell_type": "markdown",
   "metadata": {},
   "source": [
    "# For loops"
   ]
  },
  {
   "cell_type": "code",
   "execution_count": null,
   "metadata": {},
   "outputs": [],
   "source": [
    "from time import sleep\n",
    "\n",
    "name = \"DWBB Academy\"\n",
    "for letter in name:\n",
    "    sleep(1)\n",
    "    upper_letter = letter.upper()\n",
    "    print(upper_letter)"
   ]
  },
  {
   "cell_type": "code",
   "execution_count": null,
   "metadata": {},
   "outputs": [],
   "source": [
    "cars = ['Messerati', 'ferrari', 'tesla', 'audi', 'byd']\n",
    "\n",
    "for car in cars:\n",
    "    count_car = len(car)\n",
    "    print(count_car)"
   ]
  },
  {
   "cell_type": "code",
   "execution_count": null,
   "metadata": {},
   "outputs": [],
   "source": [
    "for index in range(10):\n",
    "    print(index)"
   ]
  },
  {
   "cell_type": "code",
   "execution_count": null,
   "metadata": {},
   "outputs": [],
   "source": [
    "for index in range(4, 10):\n",
    "    print(index)"
   ]
  },
  {
   "cell_type": "markdown",
   "metadata": {},
   "source": [
    "# Exponent funtion"
   ]
  },
  {
   "cell_type": "code",
   "execution_count": null,
   "metadata": {},
   "outputs": [],
   "source": [
    "def exp(base, power):\n",
    "    result = 1\n",
    "    for i in range(power):\n",
    "        result = result * base\n",
    "    return result\n",
    "\n",
    "exp(3, 55)\n"
   ]
  },
  {
   "cell_type": "code",
   "execution_count": null,
   "metadata": {},
   "outputs": [],
   "source": [
    "3**55"
   ]
  },
  {
   "cell_type": "markdown",
   "metadata": {},
   "source": [
    "# Building a translator"
   ]
  },
  {
   "cell_type": "code",
   "execution_count": null,
   "metadata": {},
   "outputs": [],
   "source": [
    "def translate(phrase):\n",
    "    translation = ''\n",
    "    for letter in phrase:\n",
    "        if letter.lower() in 'aeiou':\n",
    "            if letter.isupper():\n",
    "                translation = translation + 'G'\n",
    "            else:\n",
    "                translation = translation + 'g'\n",
    "        else:\n",
    "            translation = translation + letter\n",
    "    return translation\n",
    "\n",
    "translate('aeiou')\n"
   ]
  },
  {
   "cell_type": "markdown",
   "metadata": {},
   "source": [
    "# Error Handling"
   ]
  },
  {
   "cell_type": "code",
   "execution_count": null,
   "metadata": {},
   "outputs": [],
   "source": [
    "\n",
    "try:\n",
    "    number = int(input('Enter a number: '))\n",
    "    print('Success!')\n",
    "    invalid_input = False\n",
    "except ValueError:\n",
    "    print('Error: Please enter a valid whole number')\n"
   ]
  },
  {
   "cell_type": "code",
   "execution_count": null,
   "metadata": {},
   "outputs": [],
   "source": [
    "invalid_input = True\n",
    "\n",
    "while invalid_input:\n",
    "    try:\n",
    "        number = int(input('Enter a number: '))\n",
    "        print('Success!')\n",
    "        invalid_input = False\n",
    "    except ValueError:\n",
    "        print('Error: Please enter a valid whole number')\n",
    "    "
   ]
  },
  {
   "cell_type": "code",
   "execution_count": null,
   "metadata": {},
   "outputs": [],
   "source": [
    "num1 = input(\"Enter a number: \")\n",
    "num2 = input(\"Enter another number: \")\n",
    "\n",
    "try:\n",
    "    result = int(num1) + int(num2)\n",
    "except ValueError:\n",
    "    print('Please enter only whole numbers')\n",
    "else:\n",
    "    print(result)\n",
    "    "
   ]
  },
  {
   "cell_type": "markdown",
   "metadata": {},
   "source": [
    "# Reading from Files"
   ]
  },
  {
   "cell_type": "code",
   "execution_count": null,
   "metadata": {},
   "outputs": [],
   "source": [
    "f = open(r\"C:\\Users\\chide\\Desktop\\tweeter comments.csv\", 'r')\n",
    "print(f.readlines())\n",
    "\n",
    "f.close\n"
   ]
  },
  {
   "cell_type": "markdown",
   "metadata": {},
   "source": [
    "# Writing to files"
   ]
  },
  {
   "cell_type": "code",
   "execution_count": null,
   "metadata": {},
   "outputs": [],
   "source": [
    "f = open(r\"C:\\Users\\chide\\Desktop\\python text.txt\", 'w')\n",
    "\n",
    "f.write(\"My name is Chidera. \\nI am a tutor and Data Analyst at DWBB Academy.\\nI created this file with python\")\n",
    "\n",
    "f.close\n",
    "\n",
    "print('Write Success!')\n"
   ]
  },
  {
   "cell_type": "markdown",
   "metadata": {},
   "source": [
    "# Importing Modules / Libraries"
   ]
  },
  {
   "cell_type": "code",
   "execution_count": null,
   "metadata": {},
   "outputs": [],
   "source": [
    "import pandas as pd\n",
    "import matplotlib.pyplot as plt\n",
    "import   seaborn as sns\n",
    "import numpy as np\n"
   ]
  },
  {
   "cell_type": "markdown",
   "metadata": {},
   "source": [
    "# Class and Objects\n",
    "# Inheritance\n",
    "\n"
   ]
  },
  {
   "cell_type": "markdown",
   "metadata": {},
   "source": [
    " "
   ]
  },
  {
   "cell_type": "code",
   "execution_count": null,
   "metadata": {},
   "outputs": [],
   "source": []
  }
 ],
 "metadata": {
  "kernelspec": {
   "display_name": "Python 3",
   "language": "python",
   "name": "python3"
  },
  "language_info": {
   "codemirror_mode": {
    "name": "ipython",
    "version": 3
   },
   "file_extension": ".py",
   "mimetype": "text/x-python",
   "name": "python",
   "nbconvert_exporter": "python",
   "pygments_lexer": "ipython3",
   "version": "3.10.11"
  }
 },
 "nbformat": 4,
 "nbformat_minor": 2
}
