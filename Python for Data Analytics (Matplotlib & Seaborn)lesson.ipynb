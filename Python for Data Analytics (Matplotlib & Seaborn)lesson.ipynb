{
 "cells": [
  {
   "cell_type": "code",
   "execution_count": null,
   "metadata": {},
   "outputs": [],
   "source": [
    "#What is data visualization\n",
    "\n",
    "#line plots\n",
    "    #What is a line plot\n",
    "        #when to use it\n",
    "    #Customizing the X axis (Axis lable, )\n",
    "    #plotting multiple lines\n",
    "    #chart title and legend\n",
    "    #line markers\n",
    "    #styling lines and markers\n",
    "    #changing the figure siz\n",
    "    #Visualizing data from a dataframe\n",
    "\n",
    "#Scatter plots\n",
    "    #What is a scatter plot\n",
    "        #when to use it\n",
    "    #use matplotlib and sns (Sns requires less code)\n",
    "    #adding hues\n",
    "    #instead of passing series, we can pass a pandas dataframe\n",
    "\n",
    "#Histograms\n",
    "    #What is a histogram\n",
    "        #when to use it\n",
    "    #control size and bins\n",
    "        #specify the number of bins\n",
    "        #specify the bin sizes\n",
    "    #customize the Histogram\n",
    "    #multiple Histograms\n",
    "        #stacking Histograms\n",
    "    \n",
    "#Bar Charts\n",
    "    #What is a barchart\n",
    "        #when to use it\n",
    "    #Draw a line chart with dotted line on the barchart\n",
    "    #Stack the bar chart\n",
    "    #Bar plots with averages\n",
    "        #use matplotlib to do a groupby then plot index of df against values\n",
    "        #use seasborn to show how easy it to do thesame operation\n",
    "        #Set hue\n",
    "        #switch the axis and draw bars horizontal\n",
    "\n",
    "#Piechart / Doughnut charts\n",
    "    #what is a Piechart / Doughnut charts\n",
    "        #when to use them\n",
    "    #custotmizing the Piechart / Doughnut charts\n",
    "    \n",
    "#plotting multiple charts in a grid\n",
    "    #plt.subplots(2,3) space the plots plt.tight_layout(pad = 2)\n",
    "    "
   ]
  },
  {
   "cell_type": "markdown",
   "metadata": {},
   "source": [
    "# What is a Data Visualization?? \n",
    "\n",
    "Data visualization is the graphical representation of information and data. Through visual elements like charts, graphs, and maps, data visualization tools provide an accessible way to see and understand trends, outliers, and patterns in data.\n",
    "\n",
    "This visual representation helps individuals and organizations make sense of complex datasets, enabling them to identify insights, communicate findings, and make data-driven decisions more effectively."
   ]
  },
  {
   "cell_type": "code",
   "execution_count": null,
   "metadata": {},
   "outputs": [],
   "source": [
    "import matplotlib.pyplot as plt\n",
    "import seaborn as sns\n",
    "import pandas as pd"
   ]
  },
  {
   "cell_type": "markdown",
   "metadata": {},
   "source": [
    "# Line chart\n",
    "\n",
    "What is a line chart?\n",
    "\n",
    "A line chart is a type of graph that displays data points connected by straight lines. \\\n",
    "It is particularly useful for showing trends and changes over time.\n",
    "\n",
    "## Uses\n",
    "\n",
    "Showing Progression\\\n",
    "Comparing Trends\\\n",
    "Time Series Data"
   ]
  },
  {
   "cell_type": "code",
   "execution_count": null,
   "metadata": {},
   "outputs": [],
   "source": [
    "#plotting a list of numbers\n",
    "numbers = [0, 23, 35, 45, 56, 67, 65, 66, 63, 63, 68, 78, 90, 199, 200, 202, 204, 207, 298, 300, 340, 345, 347]\n",
    "plt.plot(numbers) ; \n",
    "\n",
    "#sns.lineplot(numbers)\n",
    "\n",
    "#By default it plots the given values against the index of values."
   ]
  },
  {
   "cell_type": "code",
   "execution_count": null,
   "metadata": {},
   "outputs": [],
   "source": [
    "#Adding the X-axis\n",
    "numbers = [0, 23, 35, 45, 56, 67, 65, 66, 63, 63, 68, 78, 90, 199, 200, 202, 204, 207, 298, 300, 340, 345, 347]\n",
    "year = list(range(2000 , 2023))\n",
    "plt.plot(year, numbers) ; \n",
    "\n",
    "# The x axis sholud comes first"
   ]
  },
  {
   "cell_type": "code",
   "execution_count": null,
   "metadata": {},
   "outputs": [],
   "source": [
    "#adding labels\n",
    "numbers = [0, 23, 35, 45, 56, 67, 65, 66, 63, 63, 68, 78, 90, 199, 200, 202, 204, 207, 298, 300, 340, 345, 347]\n",
    "year = list(range(2000 , 2023))\n",
    "\n",
    "plt.xlabel('Year')\n",
    "plt.ylabel('Revenue(in millions)')\n",
    "plt.plot(year, numbers) ; \n"
   ]
  },
  {
   "cell_type": "code",
   "execution_count": null,
   "metadata": {},
   "outputs": [],
   "source": [
    "#Plotting multiple lines\n",
    "company_a = [0, 23, 35, 45, 56, 67, 65, 66, 63, 63, 68, 78, 90, 199, 200, 202, 204, 207, 298, 300, 340, 345, 347]\n",
    "company_b = [60, 70, 80, 90, 100, 120, 125, 120, 90, 85, 90, 120, 100, 80, 70, 60, 50, 40, 39, 37, 35, 33, 40]\n",
    "year = list(range(2000 , 2023))\n",
    "\n",
    "plt.xlabel('Year')\n",
    "plt.ylabel('Revenue(in millions)')\n",
    "plt.plot(year, company_a)\n",
    "plt.plot(year, company_b); "
   ]
  },
  {
   "cell_type": "code",
   "execution_count": null,
   "metadata": {},
   "outputs": [],
   "source": [
    "#Adding chart tilte and legends\n",
    "company_a = [0, 23, 35, 45, 56, 67, 65, 66, 63, 63, 68, 78, 90, 199, 200, 202, 204, 207, 298, 300, 340, 345, 347]\n",
    "company_b = [60, 70, 80, 90, 100, 120, 125, 120, 90, 85, 90, 120, 100, 80, 70, 60, 50, 40, 39, 37, 35, 33, 40]\n",
    "year = list(range(2000 , 2023))\n",
    "\n",
    "plt.xlabel('Year')\n",
    "plt.ylabel('Revenue(in millions)')\n",
    "plt.title('Company A vs Company B Revenue trend')\n",
    "plt.plot(year, company_a)\n",
    "plt.plot(year, company_b); "
   ]
  },
  {
   "cell_type": "code",
   "execution_count": null,
   "metadata": {},
   "outputs": [],
   "source": [
    "#Adding chart tilte and legends\n",
    "company_a = [0, 23, 35, 45, 56, 67, 65, 66, 63, 63, 68, 78, 90, 199, 200, 202, 204, 207, 298, 300, 340, 345, 347]\n",
    "company_b = [60, 70, 80, 90, 100, 120, 125, 120, 90, 85, 90, 120, 100, 80, 70, 60, 50, 40, 39, 37, 35, 33, 40]\n",
    "year = list(range(2000 , 2023))\n",
    "\n",
    "plt.xlabel('Year')\n",
    "plt.ylabel('Revenue(in millions)')\n",
    "plt.title('Company A vs Company B Revenue trend')\n",
    "\n",
    "plt.plot(year, company_a, label = 'Company A')\n",
    "plt.plot(year, company_b, label = 'Company B')\n",
    "\n",
    "plt.legend() ;"
   ]
  },
  {
   "cell_type": "code",
   "execution_count": null,
   "metadata": {},
   "outputs": [],
   "source": [
    "#Adding line markers to easily read and identify data points\n",
    "company_a = [0, 23, 35, 45, 56, 67, 65, 66, 63, 63, 68, 78, 90, 199, 200, 202, 204, 207, 298, 300, 340, 345, 347]\n",
    "company_b = [60, 70, 80, 90, 100, 120, 125, 120, 90, 85, 90, 120, 100, 80, 70, 60, 50, 40, 39, 37, 35, 33, 40]\n",
    "year = list(range(2000 , 2023))\n",
    "\n",
    "plt.xlabel('Year')\n",
    "plt.ylabel('Revenue(in millions)')\n",
    "plt.title('Company A vs Company B Revenue trend')\n",
    "\n",
    "plt.plot(year, company_a, label = 'Company A', marker = '.')\n",
    "plt.plot(year, company_b, label = 'Company B', marker = '.')\n",
    "\n",
    "plt.legend() ;\n",
    "\n",
    "#Here are different marker characcters = 'o' , '.', 'x'"
   ]
  },
  {
   "cell_type": "code",
   "execution_count": null,
   "metadata": {},
   "outputs": [],
   "source": [
    "#styling lines and Markers\n",
    "company_a = [0, 23, 35, 45, 56, 67, 65, 66, 63, 63, 68, 78, 90, 199, 200, 202, 204, 207, 298, 300, 340, 345, 347]\n",
    "company_b = [60, 70, 80, 90, 100, 120, 125, 120, 90, 85, 90, 120, 100, 80, 70, 60, 50, 40, 39, 37, 35, 33, 40]\n",
    "year = list(range(2000 , 2023))\n",
    "\n",
    "plt.xlabel('Year')\n",
    "plt.ylabel('Revenue(in millions)')\n",
    "plt.title('Company A vs Company B Revenue trend')\n",
    "\n",
    "plt.plot(year, company_a, label = 'Company A', marker = '.', ls = '--', lw = 1, c = 'brown', mfc = 'white', ms = 10)\n",
    "plt.plot(year, company_b, label = 'Company B', marker = '.', ls = '-', lw = 2, c = 'blue', mfc = 'red', ms = 10)\n",
    "#plt.plot(year, company_b, '.-r', label = 'Company B')\n",
    "plt.legend() ;"
   ]
  },
  {
   "cell_type": "code",
   "execution_count": null,
   "metadata": {},
   "outputs": [],
   "source": [
    "#Changing figsize\n",
    "company_a = [0, 23, 35, 45, 56, 67, 65, 66, 63, 63, 68, 78, 90, 199, 200, 202, 204, 207, 298, 300, 340, 345, 347]\n",
    "company_b = [60, 70, 80, 90, 100, 120, 125, 120, 90, 85, 90, 120, 100, 80, 70, 60, 50, 40, 39, 37, 35, 33, 40]\n",
    "year = list(range(2000 , 2023))\n",
    "\n",
    "plt.figure(figsize = (15, 7))\n",
    "plt.xlabel('Year')\n",
    "plt.ylabel('Revenue(in millions)')\n",
    "plt.title('Company A vs Company B Revenue trend')\n",
    "\n",
    "plt.plot(year, company_a, label = 'Company A', marker = '.', ls = '--', lw = 1, c = 'brown', mfc = 'white', ms = 10)\n",
    "plt.plot(year, company_b, label = 'Company B', marker = '.', ls = '-', lw = 2, c = 'blue', mfc = 'red', ms = 10)\n",
    "#plt.plot(year, company_b, '.-r', label = 'Company B')\n",
    "plt.legend() ;"
   ]
  },
  {
   "cell_type": "code",
   "execution_count": null,
   "metadata": {},
   "outputs": [],
   "source": [
    "data_frame = pd.DataFrame({\n",
    "    \n",
    "    'year' : list(range(2000 , 2023)),\n",
    "    'company_a annual revenue' : [0, 23, 35, 45, 56, 67, 65, 66, 63, 63, 68, 78, 90, 199, 200, 202, 204, 207, 298, 300, 340, 345, 347],\n",
    "    'company_b annual revenue' : [60, 70, 80, 90, 100, 120, 125, 120, 90, 85, 90, 120, 100, 80, 70, 60, 50, 40, 39, 37, 35, 33, 40]\n",
    "    \n",
    "                   })\n",
    "\n",
    "data_frame"
   ]
  },
  {
   "cell_type": "code",
   "execution_count": null,
   "metadata": {},
   "outputs": [],
   "source": [
    "#Visualizing from a data frame\n",
    "\n",
    "plt.xlabel('Year')\n",
    "plt.ylabel('Revenue(in millions)')\n",
    "plt.title('Company A vs Company B Revenue trend')\n",
    "\n",
    "plt.plot(data_frame['year'], data_frame['company_a annual revenue'], label = 'Company A', marker = '.', ls = '--', lw = 1, c = 'brown', mfc = 'white', ms = 10)\n",
    "plt.plot(data_frame['year'], data_frame['company_b annual revenue'], label = 'Company B', marker = '.', ls = '-', lw = 2, c = 'blue', mfc = 'red', ms = 10)\n",
    "#plt.plot(year, company_b, '.-r', label = 'Company B')\n",
    "plt.legend() ;"
   ]
  },
  {
   "cell_type": "markdown",
   "metadata": {},
   "source": [
    "# Class excersise\n"
   ]
  },
  {
   "cell_type": "code",
   "execution_count": null,
   "metadata": {},
   "outputs": [],
   "source": [
    "walmat = pd.read_csv(r\"C:\\Users\\chide\\Documents\\Datasets\\supermarket_sales - Sheet1.csv\")"
   ]
  },
  {
   "cell_type": "code",
   "execution_count": null,
   "metadata": {},
   "outputs": [],
   "source": []
  },
  {
   "cell_type": "markdown",
   "metadata": {},
   "source": [
    "# Scatter Plots\n",
    "\n",
    "## What is a scatter plot??\n",
    "\n",
    "A scatter plot is a type of data visualization that displays individual data points as dots on a two-dimensional plane.\\\n",
    "Each dot represents an observation in the data, typically with one variable plotted on the x-axis and another variable plotted on the y-axis.\\\n",
    "\n",
    "They are commonly used for Correlation Analysis, Visualizing Relationships between clusters, Identifying Outliers etc"
   ]
  },
  {
   "cell_type": "code",
   "execution_count": null,
   "metadata": {},
   "outputs": [],
   "source": [
    "sns.set(style = 'darkgrid')"
   ]
  },
  {
   "cell_type": "code",
   "execution_count": null,
   "metadata": {},
   "outputs": [],
   "source": [
    "demand_df = pd.read_csv(r\"C:\\Users\\chide\\Documents\\Datasets\\Negative correlation Dataset.csv\")\n",
    "\n",
    "# Scatter plot using matplotlib\n",
    "plt.figure(figsize=(8, 6))\n",
    "plt.scatter(demand_df['Temparature (c)'], demand_df['winter coat demand'])\n",
    "plt.title('Scatter Plot of Temparature (c) vs. winter coat demand')\n",
    "plt.xlabel('Temparature (c)')\n",
    "plt.ylabel('winter coat demand')\n",
    "plt.grid(True)\n",
    "plt.show()"
   ]
  },
  {
   "cell_type": "code",
   "execution_count": null,
   "metadata": {},
   "outputs": [],
   "source": [
    "cor_df = pd.read_csv(r\"C:\\Users\\chide\\Documents\\Datasets\\Study hours vs exam scores Dataset.csv\")\n",
    "\n",
    "# Scatter plot using Seaborn\n",
    "plt.figure(figsize=(8, 6))\n",
    "sns.scatterplot(data = cor_df, x='Study Hours', y='Exam Scores', color='blue', s = 50)\n",
    "plt.title('Exam Scores vs. Study Hours')\n",
    "#plt.grid(True)\n",
    "plt.show()"
   ]
  },
  {
   "cell_type": "code",
   "execution_count": null,
   "metadata": {},
   "outputs": [],
   "source": [
    "cor_df.describe()"
   ]
  },
  {
   "cell_type": "code",
   "execution_count": null,
   "metadata": {},
   "outputs": [],
   "source": [
    "exam_score_bin = [5, 25, 50, 75, 100]\n",
    "exam_score_label = ['D', 'C', 'B', 'A']\n",
    "\n",
    "cor_df['Grades'] = pd.cut(cor_df['Exam Scores'], bins = exam_score_bin, labels = exam_score_label)\n",
    "\n",
    "cor_df.head(10)"
   ]
  },
  {
   "cell_type": "code",
   "execution_count": null,
   "metadata": {},
   "outputs": [],
   "source": [
    "plt.figure(figsize=(8, 6))\n",
    "sns.scatterplot(data = cor_df, x='Study Hours', y ='Exam Scores', hue = 'Grades', s = 50)\n",
    "plt.title('Exam Scores vs. Study Hours')\n",
    "#plt.grid(True)\n",
    "plt.show()"
   ]
  },
  {
   "cell_type": "markdown",
   "metadata": {},
   "source": [
    "# Histograms\n",
    "\n",
    "## What is a histogram??\n",
    "\n",
    "A histogram is a graphical representation of the distribution of numerical data. \\\n",
    "It consists of a series of contiguous rectangles or bars, each representing a range of values, and the height of each bar corresponds to the frequency or count of data points within that range.\n",
    "\n",
    "# Uses\n",
    "They are commoly use for statistical analysis showing how data is distributed across a range, identifying outliers, validate data cleaning, comparison.\n"
   ]
  },
  {
   "cell_type": "code",
   "execution_count": null,
   "metadata": {},
   "outputs": [],
   "source": [
    "cor_df['Exam Scores'] = round(cor_df['Exam Scores'], 2)"
   ]
  },
  {
   "cell_type": "code",
   "execution_count": null,
   "metadata": {},
   "outputs": [],
   "source": [
    "plt.hist(cor_df['Exam Scores']) "
   ]
  },
  {
   "cell_type": "code",
   "execution_count": null,
   "metadata": {},
   "outputs": [],
   "source": [
    "plt.title('Score destribution')\n",
    "plt.hist(cor_df['Exam Scores']) ;\n"
   ]
  },
  {
   "cell_type": "code",
   "execution_count": null,
   "metadata": {},
   "outputs": [],
   "source": [
    "#Number of bins\n",
    "plt.title('Score destribution')\n",
    "plt.hist(cor_df['Exam Scores'], bins = 5) ;"
   ]
  },
  {
   "cell_type": "code",
   "execution_count": null,
   "metadata": {},
   "outputs": [],
   "source": [
    "#increase number of ticks\n",
    "plt.xticks(range(0, 100, 10))\n",
    "plt.title('Score destribution')\n",
    "plt.hist(cor_df['Exam Scores'], bins = 5) ;"
   ]
  },
  {
   "cell_type": "code",
   "execution_count": null,
   "metadata": {},
   "outputs": [],
   "source": [
    "cor_df.describe()"
   ]
  },
  {
   "cell_type": "code",
   "execution_count": null,
   "metadata": {},
   "outputs": [],
   "source": [
    "#Specify the boundary of each bin\n",
    "plt.figure(figsize = (30, 10))\n",
    "plt.xticks(range(0, 100, 10))\n",
    "plt.title('Score destribution')\n",
    "plt.hist(cor_df['Exam Scores'], bins = range(int(min(cor_df['Exam Scores'])), int(max(cor_df['Exam Scores'])), 10), color = 'g') ;"
   ]
  },
  {
   "cell_type": "code",
   "execution_count": null,
   "metadata": {},
   "outputs": [],
   "source": [
    "#using Seaborn\n",
    "plt.figure(figsize = (30, 10))\n",
    "plt.xticks(range(0, 100, 10)) #this means tick should be from 0 to 99 with intervals of 10\n",
    "plt.title('Score Destribution')\n",
    "sns.histplot(data = cor_df['Exam Scores'], bins = range(6, 100, 10)) ;\n",
    "\n",
    "#range(6, 100, 10)) this means from the lowest data point to the higest data point, each bar should be 10 values wide"
   ]
  },
  {
   "cell_type": "code",
   "execution_count": null,
   "metadata": {},
   "outputs": [],
   "source": [
    "'''import pandas as pd\n",
    "import numpy as np\n",
    "\n",
    "# Generate synthetic data\n",
    "np.random.seed(0)\n",
    "num_students = 500\n",
    "math_scores = np.random.randint(0, 101, num_students)\n",
    "science_scores = np.random.randint(0, 101, num_students)\n",
    "english_scores = np.random.randint(0, 101, num_students)\n",
    "\n",
    "# Generate random gender values (assuming equal probability for male and female)\n",
    "gender = np.random.choice(['Male', 'Female'], size=num_students)\n",
    "\n",
    "# Create DataFrame\n",
    "data = {\n",
    "    'Student ID': range(1, num_students + 1),\n",
    "    'Math Score': math_scores,\n",
    "    'Science Score': science_scores,\n",
    "    'English Score': english_scores,\n",
    "    'Gender': gender\n",
    "}\n",
    "df = pd.DataFrame(data)\n",
    "\n",
    "print(df.head())\n",
    "\n",
    "\n",
    "'''"
   ]
  },
  {
   "cell_type": "code",
   "execution_count": null,
   "metadata": {},
   "outputs": [],
   "source": [
    "#df.to_csv(r'C:\\Users\\chide\\Documents\\Datasets\\game_sales_data.csv\\student grade data.csv')"
   ]
  },
  {
   "cell_type": "code",
   "execution_count": null,
   "metadata": {},
   "outputs": [],
   "source": [
    "student_df = pd.read_csv(r'C:\\Users\\chide\\Documents\\Datasets\\game_sales_data.csv\\student grade data.csv')\n",
    "student_df.head()"
   ]
  },
  {
   "cell_type": "code",
   "execution_count": null,
   "metadata": {},
   "outputs": [],
   "source": [
    "#multiple histograms\n",
    "plt.figure(figsize = (30, 10))\n",
    "\n",
    "plt.title('Score Destribution')\n",
    "plt.hist(student_df['Math Score'], alpha = 0.4, label = 'Math Score')\n",
    "plt.hist(student_df['Science Score'], alpha = 0.4, label = 'Science Score')\n",
    "plt.hist(student_df['English Score'], alpha = 0.4, label = 'English Score') \n",
    "\n",
    "plt.legend() ;"
   ]
  },
  {
   "cell_type": "code",
   "execution_count": null,
   "metadata": {},
   "outputs": [],
   "source": [
    "#multiple histograms and adding ticks\n",
    "plt.figure(figsize = (30, 10))\n",
    "plt.xticks(range(min(student_df['Math Score']), max(student_df['Math Score']), 1)) \n",
    "plt.title('Score Destribution')\n",
    "plt.hist(student_df['Math Score'], alpha = 0.4, label = 'Math Score')\n",
    "plt.hist(student_df['Science Score'], alpha = 0.4, label = 'Science Score')\n",
    "plt.hist(student_df['English Score'], alpha = 0.4, label = 'English Score') \n",
    "\n",
    "plt.legend() ;"
   ]
  },
  {
   "cell_type": "code",
   "execution_count": null,
   "metadata": {},
   "outputs": [],
   "source": [
    "#multiple histograms and adding ticks and bins\n",
    "plt.figure(figsize = (30, 10))\n",
    "plt.xticks(range(min(student_df['Math Score']), max(student_df['Math Score']), 1)) \n",
    "plt.title('Score Destribution')\n",
    "plt.hist(student_df['Math Score'], alpha = 0.4, label = 'Math Score', bins = range(min(student_df['Math Score']), max(student_df['Math Score']), 1))\n",
    "plt.hist(student_df['Science Score'], alpha = 0.4, label = 'Science Score', bins = range(min(student_df['Math Score']), max(student_df['Math Score']), 1))\n",
    "plt.hist(student_df['English Score'], alpha = 0.4, label = 'English Score', bins = range(min(student_df['Math Score']), max(student_df['Math Score']), 1))\n",
    "\n",
    "plt.legend() ;"
   ]
  },
  {
   "cell_type": "code",
   "execution_count": null,
   "metadata": {},
   "outputs": [],
   "source": [
    "#stacking histograms\n",
    "plt.figure(figsize=(30, 10))\n",
    "\n",
    "plt.title('Score Distribution')\n",
    "plt.xticks(range(min(student_df['Math Score']), max(student_df['Math Score']), 1)) \n",
    "plt.hist(student_df['Math Score'], bins=range(min(student_df['Math Score']), max(student_df['Math Score']), 1), alpha=0.7, label='Math')\n",
    "plt.hist(student_df['Science Score'], bins=range(min(student_df['Science Score']), max(student_df['Science Score']), 1), alpha=0.5, label='Science', stacked=True)\n",
    "plt.hist(student_df['English Score'], bins=range(min(student_df['English Score']), max(student_df['English Score']), 1), alpha=0.3, label='English', stacked=True)\n",
    "#plt.hist(student_df['English Score'], bins=range(min(student_df['English Score']), max(student_df['English Score']), 1), alpha=0.3, label='English', orientation = 'horizontal' ,stacked=True)\n",
    "\n",
    "plt.legend()\n",
    "plt.show()\n"
   ]
  },
  {
   "cell_type": "code",
   "execution_count": null,
   "metadata": {},
   "outputs": [],
   "source": []
  },
  {
   "cell_type": "markdown",
   "metadata": {},
   "source": [
    "# BarCharts\n",
    "\n",
    "## What is a BarChart\n",
    "A bar chart is a type of data visualization that presents categorical data with rectangular bars,\\\n",
    "where the length or height of each bar represents the frequency, count, or proportion of the data within each category.\n",
    "\n",
    "The x-axis represents the categories or groups being compared.\\\n",
    "The y-axis represents the values associated with each category.\\\n",
    "Each bar represents a category, and its length or height corresponds to the value or frequency of that category.\n",
    "\n",
    "## Uses\n",
    "\n",
    "They are commonly used to Compare categories, Show trends over time, Display part-to-whole relationships etc."
   ]
  },
  {
   "cell_type": "code",
   "execution_count": null,
   "metadata": {},
   "outputs": [],
   "source": [
    "#ploting a barchart\n",
    "plt.figure(figsize =(30, 10))\n",
    "plt.xlabel('Year')\n",
    "plt.ylabel('Revenue(in millions)')\n",
    "plt.title('Company A vs Company B Revenue trend')\n",
    "\n",
    "plt.bar(data_frame['year'], data_frame['company_a annual revenue']) \n",
    "plt.xticks(data_frame['year'])\n",
    ";\n",
    "\n",
    "#plt.bar(data_frame['year'], data_frame['company_b annual revenue'])"
   ]
  },
  {
   "cell_type": "code",
   "execution_count": null,
   "metadata": {},
   "outputs": [],
   "source": [
    "#ploting a line chart on a barchart\n",
    "\n",
    "plt.figure(figsize =(30, 10))\n",
    "plt.xlabel('Year')\n",
    "plt.ylabel('Revenue(in millions)')\n",
    "plt.title('Company A vs Company B Revenue trend')\n",
    "\n",
    "plt.bar(data_frame['year'], data_frame['company_a annual revenue'])\n",
    "plt.plot(data_frame['year'], data_frame['company_a annual revenue'])\n",
    "\n",
    "plt.xticks(data_frame['year']) ;"
   ]
  },
  {
   "cell_type": "code",
   "execution_count": null,
   "metadata": {},
   "outputs": [],
   "source": [
    "#ploting a line chart on a barchart and adding markers\n",
    "plt.figure(figsize =(30, 10))\n",
    "plt.xlabel('Year')\n",
    "plt.ylabel('Revenue(in millions)')\n",
    "plt.title('Company A vs Company B Revenue trend')\n",
    "\n",
    "plt.bar(data_frame['year'], data_frame['company_a annual revenue'])\n",
    "plt.plot(data_frame['year'], data_frame['company_a annual revenue'], marker = '.', ls = '--', ms = 10, mfc = 'r')\n",
    "#plt.grid(True)\n",
    "plt.xticks(data_frame['year']) ;"
   ]
  },
  {
   "cell_type": "code",
   "execution_count": null,
   "metadata": {},
   "outputs": [],
   "source": [
    "#adding annotations\n",
    "plt.figure(figsize =(30, 10))\n",
    "plt.xlabel('Year')\n",
    "plt.ylabel('Revenue(in millions)')\n",
    "plt.title('Company A vs Company B Revenue trend')\n",
    "\n",
    "plt.bar(data_frame['year'], data_frame['company_a annual revenue'])\n",
    "plt.plot(data_frame['year'], data_frame['company_a annual revenue'], marker = '.', ls = '--', ms = 10, mfc = 'r')\n",
    "#plt.grid(True)\n",
    "plt.xticks(data_frame['year']) \n",
    "plt.text(data_frame['year'][5], 67, str(67), ha = 'center', va = 'bottom');"
   ]
  },
  {
   "cell_type": "code",
   "execution_count": null,
   "metadata": {},
   "outputs": [],
   "source": [
    "#adding annotations to all bars\n",
    "plt.figure(figsize =(30, 10))\n",
    "plt.xlabel('Year')\n",
    "plt.ylabel('Revenue(in millions)')\n",
    "plt.title('Company A vs Company B Revenue trend')\n",
    "\n",
    "plt.bar(data_frame['year'], data_frame['company_a annual revenue'])\n",
    "plt.plot(data_frame['year'], data_frame['company_a annual revenue'], marker = '.', ls = '--', ms = 10, mfc = 'r')\n",
    "#plt.grid(True)\n",
    "plt.xticks(data_frame['year'])\n",
    "\n",
    "for i, revenue in enumerate(data_frame['company_a annual revenue']):\n",
    "    plt.text(data_frame['year'][i], revenue, str(revenue), ha = 'center', va = 'bottom');"
   ]
  },
  {
   "cell_type": "code",
   "execution_count": null,
   "metadata": {},
   "outputs": [],
   "source": [
    "#multiple barcharts\n",
    "plt.figure(figsize =(30, 10))\n",
    "plt.xlabel('Year')\n",
    "plt.ylabel('Revenue(in millions)')\n",
    "plt.title('Company A vs Company B Revenue trend')\n",
    "\n",
    "plt.bar(data_frame['year'], data_frame['company_a annual revenue'])\n",
    "plt.bar(data_frame['year'], data_frame['company_b annual revenue'])\n",
    "#plt.grid(True)\n",
    "plt.xticks(data_frame['year'])\n",
    "\n",
    "'''for i, revenue in enumerate(data_frame['company_a annual revenue']):\n",
    "    plt.text(data_frame['year'][i], revenue, str(revenue), ha = 'center', va = 'bottom')''';"
   ]
  },
  {
   "cell_type": "code",
   "execution_count": null,
   "metadata": {},
   "outputs": [],
   "source": [
    "#multiple barchart and adding legends\n",
    "plt.figure(figsize =(30, 10))\n",
    "plt.xlabel('Year')\n",
    "plt.ylabel('Revenue(in millions)')\n",
    "plt.title('Company A vs Company B Revenue trend')\n",
    "\n",
    "plt.bar(data_frame['year'], data_frame['company_a annual revenue'], label = 'company_a')\n",
    "plt.bar(data_frame['year'], data_frame['company_b annual revenue'], label = 'company_b')\n",
    "#plt.grid(True)\n",
    "plt.xticks(data_frame['year'])\n",
    "plt.legend()\n",
    "\n",
    "'''for i, revenue in enumerate(data_frame['company_a annual revenue']):\n",
    "    plt.text(data_frame['year'][i], revenue, str(revenue), ha = 'center', va = 'bottom')''';"
   ]
  },
  {
   "cell_type": "code",
   "execution_count": null,
   "metadata": {},
   "outputs": [],
   "source": [
    "#stacking barchart\n",
    "plt.figure(figsize =(30, 10))\n",
    "plt.xlabel('Year')\n",
    "plt.ylabel('Revenue(in millions)')\n",
    "plt.title('Company A vs Company B Revenue trend')\n",
    "\n",
    "plt.bar(data_frame['year'], data_frame['company_a annual revenue'], label = 'company_a')\n",
    "plt.bar(data_frame['year'], data_frame['company_b annual revenue'], label = 'company_b', bottom = data_frame['company_b annual revenue'])\n",
    "#plt.grid(True)\n",
    "plt.xticks(data_frame['year'])\n",
    "plt.legend()\n",
    "\n",
    "'''for i, revenue in enumerate(data_frame['company_a annual revenue']):\n",
    "    plt.text(data_frame['year'][i], revenue, str(revenue), ha = 'center', va = 'bottom')''';"
   ]
  },
  {
   "cell_type": "code",
   "execution_count": null,
   "metadata": {},
   "outputs": [],
   "source": [
    "#stacking horizontal barchart\n",
    "plt.figure(figsize =(30, 10))\n",
    "plt.xlabel('Year')\n",
    "plt.ylabel('Revenue(in millions)')\n",
    "plt.title('Company A vs Company B Revenue trend')\n",
    "\n",
    "plt.barh(data_frame['year'], data_frame['company_a annual revenue'], label = 'company_a')\n",
    "plt.barh(data_frame['year'], data_frame['company_b annual revenue'], label = 'company_b', left = data_frame['company_b annual revenue'])\n",
    "#plt.grid(True)\n",
    "plt.yticks(data_frame['year'])\n",
    "plt.legend()\n",
    "\n",
    "'''for i, revenue in enumerate(data_frame['company_a annual revenue']):\n",
    "    plt.text(data_frame['year'][i], revenue, str(revenue), ha = 'center', va = 'bottom')''';"
   ]
  },
  {
   "cell_type": "code",
   "execution_count": null,
   "metadata": {},
   "outputs": [],
   "source": [
    "student_df.head()"
   ]
  },
  {
   "cell_type": "code",
   "execution_count": null,
   "metadata": {},
   "outputs": [],
   "source": [
    "filtered_df = student_df[['Math Score', 'Science Score', 'English Score', 'Gender']]"
   ]
  },
  {
   "cell_type": "code",
   "execution_count": 50,
   "metadata": {},
   "outputs": [
    {
     "data": {
      "image/png": "[encoded data removed]",
      "text/plain": [
       "<Figure size 640x480 with 1 Axes>"
      ]
     },
     "metadata": {},
     "output_type": "display_data"
    }
   ],
   "source": [
    "agg = filtered_df.groupby('Gender').mean()\n",
    "\n",
    "agg.plot(kind = 'bar') ;\n"
   ]
  },
  {
   "cell_type": "code",
   "execution_count": 61,
   "metadata": {},
   "outputs": [
    {
     "data": {
      "text/plain": [
       "<Axes: xlabel='Gender'>"
      ]
     },
     "execution_count": 61,
     "metadata": {},
     "output_type": "execute_result"
    },
    {
     "data": {
      "image/png": "[encoded data removed]",
      "text/plain": [
       "<Figure size 640x480 with 1 Axes>"
      ]
     },
     "metadata": {},
     "output_type": "display_data"
    }
   ],
   "source": [
    "sns.barplot(data = filtered_df, x = 'Gender', y = filtered_df.index)"
   ]
  },
  {
   "cell_type": "markdown",
   "metadata": {},
   "source": [
    "# Piechart / Doughnut charts\n",
    "\n",
    "A pie chart and a doughnut chart are graphical representations used to illustrate the proportions of different categories within a dataset relative to the whole.\\\n",
    " These types of charts are particularly effective for showing the composition of a dataset when the number of categories is relatively small\n",
    "\n",
    " # Uses\n",
    "\n",
    "it is used to highlight proportions within a single dataset."
   ]
  },
  {
   "cell_type": "code",
   "execution_count": null,
   "metadata": {},
   "outputs": [],
   "source": [
    "data_frame"
   ]
  },
  {
   "cell_type": "code",
   "execution_count": null,
   "metadata": {},
   "outputs": [],
   "source": []
  },
  {
   "cell_type": "code",
   "execution_count": null,
   "metadata": {},
   "outputs": [],
   "source": []
  }
 ],
 "metadata": {
  "kernelspec": {
   "display_name": "Python 3",
   "language": "python",
   "name": "python3"
  },
  "language_info": {
   "codemirror_mode": {
    "name": "ipython",
    "version": 3
   },
   "file_extension": ".py",
   "mimetype": "text/x-python",
   "name": "python",
   "nbconvert_exporter": "python",
   "pygments_lexer": "ipython3",
   "version": "3.10.11"
  }
 },
 "nbformat": 4,
 "nbformat_minor": 2
}
